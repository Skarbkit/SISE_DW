{
 "cells": [
  {
   "cell_type": "code",
   "execution_count": 10,
   "id": "34cc475d",
   "metadata": {},
   "outputs": [],
   "source": [
    "import pandas as pd\n",
    "import numpy as np\n",
    "\n",
    "c_velo = pd.read_csv('csv_clean/comptage_velo.csv', sep=\",\") "
   ]
  },
  {
   "cell_type": "code",
   "execution_count": 11,
   "id": "7933ca10",
   "metadata": {},
   "outputs": [
    {
     "data": {
      "text/html": [
       "<div>\n",
       "<style scoped>\n",
       "    .dataframe tbody tr th:only-of-type {\n",
       "        vertical-align: middle;\n",
       "    }\n",
       "\n",
       "    .dataframe tbody tr th {\n",
       "        vertical-align: top;\n",
       "    }\n",
       "\n",
       "    .dataframe thead th {\n",
       "        text-align: right;\n",
       "    }\n",
       "</style>\n",
       "<table border=\"1\" class=\"dataframe\">\n",
       "  <thead>\n",
       "    <tr style=\"text-align: right;\">\n",
       "      <th></th>\n",
       "      <th>Identifiant du compteur</th>\n",
       "      <th>Identifiant du site de comptage</th>\n",
       "      <th>Nom du site de comptage</th>\n",
       "      <th>Comptage horaire</th>\n",
       "      <th>Date et heure de comptage</th>\n",
       "      <th>Coordonnées géographiques</th>\n",
       "      <th>mois_annee_comptage</th>\n",
       "      <th>jour mois annee comptage</th>\n",
       "    </tr>\n",
       "  </thead>\n",
       "  <tbody>\n",
       "    <tr>\n",
       "      <th>0</th>\n",
       "      <td>100003096-353242251</td>\n",
       "      <td>100003096</td>\n",
       "      <td>97 avenue Denfert Rochereau</td>\n",
       "      <td>3.0</td>\n",
       "      <td>2021-10-01T03:00:00+02:00</td>\n",
       "      <td>48.83504,2.33314</td>\n",
       "      <td>2021-10</td>\n",
       "      <td>2021-10-01</td>\n",
       "    </tr>\n",
       "    <tr>\n",
       "      <th>1</th>\n",
       "      <td>100003096-353242251</td>\n",
       "      <td>100003096</td>\n",
       "      <td>97 avenue Denfert Rochereau</td>\n",
       "      <td>91.0</td>\n",
       "      <td>2021-10-01T07:00:00+02:00</td>\n",
       "      <td>48.83504,2.33314</td>\n",
       "      <td>2021-10</td>\n",
       "      <td>2021-10-01</td>\n",
       "    </tr>\n",
       "    <tr>\n",
       "      <th>2</th>\n",
       "      <td>100003096-353242251</td>\n",
       "      <td>100003096</td>\n",
       "      <td>97 avenue Denfert Rochereau</td>\n",
       "      <td>3.0</td>\n",
       "      <td>2021-10-01T05:00:00+02:00</td>\n",
       "      <td>48.83504,2.33314</td>\n",
       "      <td>2021-10</td>\n",
       "      <td>2021-10-01</td>\n",
       "    </tr>\n",
       "    <tr>\n",
       "      <th>3</th>\n",
       "      <td>100003096-353242251</td>\n",
       "      <td>100003096</td>\n",
       "      <td>97 avenue Denfert Rochereau</td>\n",
       "      <td>1.0</td>\n",
       "      <td>2021-10-01T04:00:00+02:00</td>\n",
       "      <td>48.83504,2.33314</td>\n",
       "      <td>2021-10</td>\n",
       "      <td>2021-10-01</td>\n",
       "    </tr>\n",
       "    <tr>\n",
       "      <th>4</th>\n",
       "      <td>100003096-353242251</td>\n",
       "      <td>100003096</td>\n",
       "      <td>97 avenue Denfert Rochereau</td>\n",
       "      <td>253.0</td>\n",
       "      <td>2021-10-01T08:00:00+02:00</td>\n",
       "      <td>48.83504,2.33314</td>\n",
       "      <td>2021-10</td>\n",
       "      <td>2021-10-01</td>\n",
       "    </tr>\n",
       "  </tbody>\n",
       "</table>\n",
       "</div>"
      ],
      "text/plain": [
       "  Identifiant du compteur  Identifiant du site de comptage  \\\n",
       "0     100003096-353242251                        100003096   \n",
       "1     100003096-353242251                        100003096   \n",
       "2     100003096-353242251                        100003096   \n",
       "3     100003096-353242251                        100003096   \n",
       "4     100003096-353242251                        100003096   \n",
       "\n",
       "       Nom du site de comptage  Comptage horaire  Date et heure de comptage  \\\n",
       "0  97 avenue Denfert Rochereau               3.0  2021-10-01T03:00:00+02:00   \n",
       "1  97 avenue Denfert Rochereau              91.0  2021-10-01T07:00:00+02:00   \n",
       "2  97 avenue Denfert Rochereau               3.0  2021-10-01T05:00:00+02:00   \n",
       "3  97 avenue Denfert Rochereau               1.0  2021-10-01T04:00:00+02:00   \n",
       "4  97 avenue Denfert Rochereau             253.0  2021-10-01T08:00:00+02:00   \n",
       "\n",
       "  Coordonnées géographiques mois_annee_comptage jour mois annee comptage  \n",
       "0          48.83504,2.33314             2021-10               2021-10-01  \n",
       "1          48.83504,2.33314             2021-10               2021-10-01  \n",
       "2          48.83504,2.33314             2021-10               2021-10-01  \n",
       "3          48.83504,2.33314             2021-10               2021-10-01  \n",
       "4          48.83504,2.33314             2021-10               2021-10-01  "
      ]
     },
     "execution_count": 11,
     "metadata": {},
     "output_type": "execute_result"
    }
   ],
   "source": [
    "c_velo.head()"
   ]
  },
  {
   "cell_type": "code",
   "execution_count": 20,
   "id": "f547829e",
   "metadata": {},
   "outputs": [],
   "source": [
    "c_velo['id_date'] = c_velo['Date et heure de comptage'].str.slice(stop=10)\n",
    "len(np.unique(c_velo['id_date']))\n",
    "Temps=c_velo['id_date']\n",
    "Temps=Temps.reset_index()"
   ]
  },
  {
   "cell_type": "code",
   "execution_count": 21,
   "id": "016d09eb",
   "metadata": {},
   "outputs": [
    {
     "name": "stdout",
     "output_type": "stream",
     "text": [
      "         index     id_date      mois\n",
      "0            0  2021-10-01   Octobre\n",
      "1            1  2021-10-01   Octobre\n",
      "2            2  2021-10-01   Octobre\n",
      "3            3  2021-10-01   Octobre\n",
      "4            4  2021-10-01   Octobre\n",
      "...        ...         ...       ...\n",
      "934415  934415  2022-11-22  Novembre\n",
      "934416  934416  2022-11-22  Novembre\n",
      "934417  934417  2022-11-22  Novembre\n",
      "934418  934418  2022-11-22  Novembre\n",
      "934419  934419  2022-11-22  Novembre\n",
      "\n",
      "[934420 rows x 3 columns]\n"
     ]
    }
   ],
   "source": [
    "Temps['mois']= Temps['id_date'].str.slice(start=5,stop=7)\n",
    "Temps['mois']= Temps['mois'].replace(['01','02','03','04','05','06','07','08','09','10','11','12'],['Janvier','Fevrier','Mars','Avril','Mai','Juin','Juillet','Aout','Septembre','Octobre','Novembre','Decembre'])\n",
    "print(Temps)"
   ]
  },
  {
   "cell_type": "code",
   "execution_count": 27,
   "id": "f5d1423e",
   "metadata": {},
   "outputs": [
    {
     "ename": "AttributeError",
     "evalue": "'Series' object has no attribute 'day_name'",
     "output_type": "error",
     "traceback": [
      "\u001b[1;31m---------------------------------------------------------------------------\u001b[0m",
      "\u001b[1;31mAttributeError\u001b[0m                            Traceback (most recent call last)",
      "Input \u001b[1;32mIn [27]\u001b[0m, in \u001b[0;36m<cell line: 3>\u001b[1;34m()\u001b[0m\n\u001b[0;32m      1\u001b[0m Temps[\u001b[38;5;124m'\u001b[39m\u001b[38;5;124mid_jour\u001b[39m\u001b[38;5;124m'\u001b[39m] \u001b[38;5;241m=\u001b[39m pd\u001b[38;5;241m.\u001b[39mto_datetime(Temps[\u001b[38;5;124m'\u001b[39m\u001b[38;5;124mid_date\u001b[39m\u001b[38;5;124m'\u001b[39m], \u001b[38;5;28mformat\u001b[39m \u001b[38;5;241m=\u001b[39m \u001b[38;5;124m\"\u001b[39m\u001b[38;5;124m%\u001b[39m\u001b[38;5;124mY-\u001b[39m\u001b[38;5;124m%\u001b[39m\u001b[38;5;124mm-\u001b[39m\u001b[38;5;132;01m%d\u001b[39;00m\u001b[38;5;124m\"\u001b[39m)\n\u001b[0;32m      2\u001b[0m test \u001b[38;5;241m=\u001b[39m pd\u001b[38;5;241m.\u001b[39mto_datetime(Temps[\u001b[38;5;124m'\u001b[39m\u001b[38;5;124mid_date\u001b[39m\u001b[38;5;124m'\u001b[39m], \u001b[38;5;28mformat\u001b[39m \u001b[38;5;241m=\u001b[39m \u001b[38;5;124m\"\u001b[39m\u001b[38;5;124m%\u001b[39m\u001b[38;5;124mY-\u001b[39m\u001b[38;5;124m%\u001b[39m\u001b[38;5;124mm-\u001b[39m\u001b[38;5;132;01m%d\u001b[39;00m\u001b[38;5;124m\"\u001b[39m)\n\u001b[1;32m----> 3\u001b[0m \u001b[43mtest\u001b[49m\u001b[38;5;241;43m.\u001b[39;49m\u001b[43mday_name\u001b[49m()\n",
      "File \u001b[1;32mC:\\Anaconda3\\lib\\site-packages\\pandas\\core\\generic.py:5575\u001b[0m, in \u001b[0;36mNDFrame.__getattr__\u001b[1;34m(self, name)\u001b[0m\n\u001b[0;32m   5568\u001b[0m \u001b[38;5;28;01mif\u001b[39;00m (\n\u001b[0;32m   5569\u001b[0m     name \u001b[38;5;129;01mnot\u001b[39;00m \u001b[38;5;129;01min\u001b[39;00m \u001b[38;5;28mself\u001b[39m\u001b[38;5;241m.\u001b[39m_internal_names_set\n\u001b[0;32m   5570\u001b[0m     \u001b[38;5;129;01mand\u001b[39;00m name \u001b[38;5;129;01mnot\u001b[39;00m \u001b[38;5;129;01min\u001b[39;00m \u001b[38;5;28mself\u001b[39m\u001b[38;5;241m.\u001b[39m_metadata\n\u001b[0;32m   5571\u001b[0m     \u001b[38;5;129;01mand\u001b[39;00m name \u001b[38;5;129;01mnot\u001b[39;00m \u001b[38;5;129;01min\u001b[39;00m \u001b[38;5;28mself\u001b[39m\u001b[38;5;241m.\u001b[39m_accessors\n\u001b[0;32m   5572\u001b[0m     \u001b[38;5;129;01mand\u001b[39;00m \u001b[38;5;28mself\u001b[39m\u001b[38;5;241m.\u001b[39m_info_axis\u001b[38;5;241m.\u001b[39m_can_hold_identifiers_and_holds_name(name)\n\u001b[0;32m   5573\u001b[0m ):\n\u001b[0;32m   5574\u001b[0m     \u001b[38;5;28;01mreturn\u001b[39;00m \u001b[38;5;28mself\u001b[39m[name]\n\u001b[1;32m-> 5575\u001b[0m \u001b[38;5;28;01mreturn\u001b[39;00m \u001b[38;5;28;43mobject\u001b[39;49m\u001b[38;5;241;43m.\u001b[39;49m\u001b[38;5;21;43m__getattribute__\u001b[39;49m\u001b[43m(\u001b[49m\u001b[38;5;28;43mself\u001b[39;49m\u001b[43m,\u001b[49m\u001b[43m \u001b[49m\u001b[43mname\u001b[49m\u001b[43m)\u001b[49m\n",
      "\u001b[1;31mAttributeError\u001b[0m: 'Series' object has no attribute 'day_name'"
     ]
    }
   ],
   "source": [
    "Temps['id_jour'] = pd.to_datetime(Temps['id_date'], format = \"%Y-%m-%d\")\n",
    "test = pd.to_datetime(Temps['id_date'], format = \"%Y-%m-%d\")\n",
    "test.day_name()"
   ]
  }
 ],
 "metadata": {
  "kernelspec": {
   "display_name": "Python 3 (ipykernel)",
   "language": "python",
   "name": "python3"
  },
  "language_info": {
   "codemirror_mode": {
    "name": "ipython",
    "version": 3
   },
   "file_extension": ".py",
   "mimetype": "text/x-python",
   "name": "python",
   "nbconvert_exporter": "python",
   "pygments_lexer": "ipython3",
   "version": "3.9.12"
  }
 },
 "nbformat": 4,
 "nbformat_minor": 5
}
