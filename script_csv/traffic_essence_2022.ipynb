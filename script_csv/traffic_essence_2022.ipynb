{
 "cells": [
  {
   "cell_type": "code",
   "execution_count": 1,
   "id": "b47626f6",
   "metadata": {},
   "outputs": [],
   "source": [
    "import pandas as pd\n",
    "\n",
    "traffic = pd.read_csv('csv_clean/comptage.csv', sep=\";\") \n",
    "essence = pd.read_csv('csv_clean/Prix_carburant2022Paris.csv', sep=\";\") "
   ]
  },
  {
   "cell_type": "code",
   "execution_count": 2,
   "id": "91e44788",
   "metadata": {},
   "outputs": [],
   "source": [
    "traffic['id_date'] = traffic['Date et heure de comptage'].str.slice(stop=10)\n",
    "traffic['id_heure'] = traffic['Date et heure de comptage'].str.slice(start=12 ,stop=16) \n",
    "traffic['id_type_install']=traffic['Identifiant arc']\n",
    "traffic = traffic.drop(columns=['Date et heure de comptage','lat','long','geo_shape','Libelle','Identifiant arc'])"
   ]
  },
  {
   "cell_type": "code",
   "execution_count": 3,
   "id": "e11fb322",
   "metadata": {},
   "outputs": [],
   "source": [
    "#Change etat trafic en variable quanti\n",
    "traffic = traffic.replace(['Fluide', 'Pré-saturé', 'Saturé', 'Bloqué'], [0, 1, 2, 3])"
   ]
  },
  {
   "cell_type": "code",
   "execution_count": 4,
   "id": "206be411",
   "metadata": {},
   "outputs": [],
   "source": [
    "essence['id_date'] = essence['date_maj'].str.slice(stop=10)"
   ]
  },
  {
   "cell_type": "code",
   "execution_count": 5,
   "id": "9269bacd",
   "metadata": {},
   "outputs": [],
   "source": [
    "df = essence.groupby('id_date')['prix'].mean()"
   ]
  },
  {
   "cell_type": "code",
   "execution_count": 6,
   "id": "ddc0870d",
   "metadata": {},
   "outputs": [],
   "source": [
    "df =df.reset_index()"
   ]
  },
  {
   "cell_type": "code",
   "execution_count": 7,
   "id": "0df309fc",
   "metadata": {},
   "outputs": [],
   "source": [
    "df_n = pd.merge(traffic,df,on='id_date')"
   ]
  },
  {
   "cell_type": "code",
   "execution_count": 10,
   "id": "370c9f74",
   "metadata": {},
   "outputs": [],
   "source": [
    "compression_opts = dict(method='zip',\n",
    "                        archive_name='traffic_essence.csv')\n",
    "\n",
    "df_n.to_csv('traffic_essence.zip', index=False,\n",
    "          compression=compression_opts)  "
   ]
  }
 ],
 "metadata": {
  "kernelspec": {
   "display_name": "Python 3 (ipykernel)",
   "language": "python",
   "name": "python3"
  },
  "language_info": {
   "codemirror_mode": {
    "name": "ipython",
    "version": 3
   },
   "file_extension": ".py",
   "mimetype": "text/x-python",
   "name": "python",
   "nbconvert_exporter": "python",
   "pygments_lexer": "ipython3",
   "version": "3.9.12"
  }
 },
 "nbformat": 4,
 "nbformat_minor": 5
}
